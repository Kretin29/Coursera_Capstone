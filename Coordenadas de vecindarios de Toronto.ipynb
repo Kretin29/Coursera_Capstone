{
 "cells": [
  {
   "cell_type": "markdown",
   "id": "a28d6a68",
   "metadata": {},
   "source": [
    "### Importamos las librerías necesarias para realizar web scraping"
   ]
  },
  {
   "cell_type": "code",
   "execution_count": 1,
   "id": "8768cf30",
   "metadata": {},
   "outputs": [],
   "source": [
    "import pandas as pd\n",
    "import numpy as np\n",
    "import requests\n",
    "from bs4 import BeautifulSoup"
   ]
  },
  {
   "cell_type": "markdown",
   "id": "a62388d2",
   "metadata": {},
   "source": [
    "### Descargamos los datos del enlace: https://en.wikipedia.org/wiki/List_of_postal_codes_of_Canada:_M, por medio de BeatifulSoup"
   ]
  },
  {
   "cell_type": "code",
   "execution_count": 2,
   "id": "62903592",
   "metadata": {},
   "outputs": [],
   "source": [
    "URL = \"https://en.wikipedia.org/wiki/List_of_postal_codes_of_Canada:_M\"\n",
    "page = requests.get(URL)\n",
    "soup = BeautifulSoup(page.content, \"html.parser\")"
   ]
  },
  {
   "cell_type": "markdown",
   "id": "144ab08a",
   "metadata": {},
   "source": [
    "### Se extrae la tabla que contiene solamente los datos de códigos postales de Toronto"
   ]
  },
  {
   "cell_type": "code",
   "execution_count": 3,
   "id": "25d14d67",
   "metadata": {},
   "outputs": [],
   "source": [
    "table = soup.find('table')"
   ]
  },
  {
   "cell_type": "code",
   "execution_count": 4,
   "id": "7c9fc0ca",
   "metadata": {},
   "outputs": [],
   "source": [
    "file=[]\n",
    "ncol=list(range(0,9))\n",
    "\n",
    "for i in ncol :\n",
    "    \n",
    "    for row in table.find_all('tr'): # in html table row is represented by the table\n",
    "    # Get all columns in each row.\n",
    "        cols = row.find_all('p') # in html a column is represented by the tag td or p\n",
    "        file.append(cols[i].getText())\n",
    "\n",
    "    # convert to dataframe:\n",
    "df= pd.DataFrame(file)"
   ]
  },
  {
   "cell_type": "markdown",
   "id": "8ba4d659",
   "metadata": {},
   "source": [
    "### Luego, configuramos el datafreme solicitado en la tarea"
   ]
  },
  {
   "cell_type": "code",
   "execution_count": 23,
   "id": "7ab8ae4a",
   "metadata": {},
   "outputs": [],
   "source": [
    "df[\"Postal Code\"] = df[0].str[0:3]\n",
    "df[\"Borough\"] = df[0].str[3:].str.split(\"(\", n=1, expand=True)[0]\n",
    "df[\"Neigh\"] = df[0].str.rsplit(\"(\", n=2, expand=True)[1].str.split(\")\", n=1, expand=True)[0].fillna(\"\")\n",
    "df[\"Neighbourhood\"] = df[\"Neigh\"].str.replace(\" / \", \",\")"
   ]
  },
  {
   "cell_type": "code",
   "execution_count": 24,
   "id": "6e3c7b64",
   "metadata": {},
   "outputs": [],
   "source": [
    "postalcode_list=df[(df[\"Borough\"]!=\"Not assigned\\n\")]\n",
    "postalcode_list=postalcode_list.drop([0, 'Neigh'],axis=1)"
   ]
  },
  {
   "cell_type": "code",
   "execution_count": 25,
   "id": "93903c5e",
   "metadata": {},
   "outputs": [
    {
     "data": {
      "text/html": [
       "<div>\n",
       "<style scoped>\n",
       "    .dataframe tbody tr th:only-of-type {\n",
       "        vertical-align: middle;\n",
       "    }\n",
       "\n",
       "    .dataframe tbody tr th {\n",
       "        vertical-align: top;\n",
       "    }\n",
       "\n",
       "    .dataframe thead th {\n",
       "        text-align: right;\n",
       "    }\n",
       "</style>\n",
       "<table border=\"1\" class=\"dataframe\">\n",
       "  <thead>\n",
       "    <tr style=\"text-align: right;\">\n",
       "      <th></th>\n",
       "      <th>PostalCode</th>\n",
       "      <th>Borough</th>\n",
       "      <th>Neighbourhood</th>\n",
       "      <th>Postal Code</th>\n",
       "    </tr>\n",
       "  </thead>\n",
       "  <tbody>\n",
       "    <tr>\n",
       "      <th>1</th>\n",
       "      <td>M1B</td>\n",
       "      <td>Scarborough</td>\n",
       "      <td>Malvern,Rouge</td>\n",
       "      <td>M1B</td>\n",
       "    </tr>\n",
       "    <tr>\n",
       "      <th>2</th>\n",
       "      <td>M1C</td>\n",
       "      <td>Scarborough</td>\n",
       "      <td>Rouge Hill,Port Union,Highland Creek</td>\n",
       "      <td>M1C</td>\n",
       "    </tr>\n",
       "    <tr>\n",
       "      <th>3</th>\n",
       "      <td>M1E</td>\n",
       "      <td>Scarborough</td>\n",
       "      <td>Guildwood,Morningside,West Hill</td>\n",
       "      <td>M1E</td>\n",
       "    </tr>\n",
       "    <tr>\n",
       "      <th>4</th>\n",
       "      <td>M1G</td>\n",
       "      <td>Scarborough</td>\n",
       "      <td>Woburn</td>\n",
       "      <td>M1G</td>\n",
       "    </tr>\n",
       "    <tr>\n",
       "      <th>5</th>\n",
       "      <td>M1H</td>\n",
       "      <td>Scarborough</td>\n",
       "      <td>Cedarbrae</td>\n",
       "      <td>M1H</td>\n",
       "    </tr>\n",
       "  </tbody>\n",
       "</table>\n",
       "</div>"
      ],
      "text/plain": [
       "  PostalCode      Borough                         Neighbourhood Postal Code\n",
       "1        M1B  Scarborough                         Malvern,Rouge         M1B\n",
       "2        M1C  Scarborough  Rouge Hill,Port Union,Highland Creek         M1C\n",
       "3        M1E  Scarborough       Guildwood,Morningside,West Hill         M1E\n",
       "4        M1G  Scarborough                                Woburn         M1G\n",
       "5        M1H  Scarborough                             Cedarbrae         M1H"
      ]
     },
     "execution_count": 25,
     "metadata": {},
     "output_type": "execute_result"
    }
   ],
   "source": [
    "postalcode_list.head()"
   ]
  },
  {
   "cell_type": "code",
   "execution_count": 26,
   "id": "5f723914",
   "metadata": {},
   "outputs": [
    {
     "data": {
      "text/plain": [
       "(103, 4)"
      ]
     },
     "execution_count": 26,
     "metadata": {},
     "output_type": "execute_result"
    }
   ],
   "source": [
    "postalcode_list.shape"
   ]
  },
  {
   "cell_type": "markdown",
   "id": "1e9d887f",
   "metadata": {},
   "source": [
    "### Descargamos el archivo de internet con el enlace dado, que nos proporciona coordenadas geográficas"
   ]
  },
  {
   "cell_type": "code",
   "execution_count": 27,
   "id": "ec252813",
   "metadata": {},
   "outputs": [],
   "source": [
    "# URL del archivo CSV en internet\n",
    "url = 'https://cocl.us/Geospatial_data'\n",
    "\n",
    "Geospatial_Coordinates=pd.read_csv(url)"
   ]
  },
  {
   "cell_type": "markdown",
   "id": "c393c908",
   "metadata": {},
   "source": [
    "### Anexamos las coordenadas geográficas a nuestro dataframe por medio del código postal"
   ]
  },
  {
   "cell_type": "code",
   "execution_count": 29,
   "id": "72067e96",
   "metadata": {},
   "outputs": [
    {
     "data": {
      "text/html": [
       "<div>\n",
       "<style scoped>\n",
       "    .dataframe tbody tr th:only-of-type {\n",
       "        vertical-align: middle;\n",
       "    }\n",
       "\n",
       "    .dataframe tbody tr th {\n",
       "        vertical-align: top;\n",
       "    }\n",
       "\n",
       "    .dataframe thead th {\n",
       "        text-align: right;\n",
       "    }\n",
       "</style>\n",
       "<table border=\"1\" class=\"dataframe\">\n",
       "  <thead>\n",
       "    <tr style=\"text-align: right;\">\n",
       "      <th></th>\n",
       "      <th>PostalCode</th>\n",
       "      <th>Borough</th>\n",
       "      <th>Neighbourhood</th>\n",
       "      <th>Latitude</th>\n",
       "      <th>Longitude</th>\n",
       "    </tr>\n",
       "  </thead>\n",
       "  <tbody>\n",
       "    <tr>\n",
       "      <th>0</th>\n",
       "      <td>M1B</td>\n",
       "      <td>Scarborough</td>\n",
       "      <td>Malvern,Rouge</td>\n",
       "      <td>43.806686</td>\n",
       "      <td>-79.194353</td>\n",
       "    </tr>\n",
       "    <tr>\n",
       "      <th>1</th>\n",
       "      <td>M1C</td>\n",
       "      <td>Scarborough</td>\n",
       "      <td>Rouge Hill,Port Union,Highland Creek</td>\n",
       "      <td>43.784535</td>\n",
       "      <td>-79.160497</td>\n",
       "    </tr>\n",
       "    <tr>\n",
       "      <th>2</th>\n",
       "      <td>M1E</td>\n",
       "      <td>Scarborough</td>\n",
       "      <td>Guildwood,Morningside,West Hill</td>\n",
       "      <td>43.763573</td>\n",
       "      <td>-79.188711</td>\n",
       "    </tr>\n",
       "    <tr>\n",
       "      <th>3</th>\n",
       "      <td>M1G</td>\n",
       "      <td>Scarborough</td>\n",
       "      <td>Woburn</td>\n",
       "      <td>43.770992</td>\n",
       "      <td>-79.216917</td>\n",
       "    </tr>\n",
       "    <tr>\n",
       "      <th>4</th>\n",
       "      <td>M1H</td>\n",
       "      <td>Scarborough</td>\n",
       "      <td>Cedarbrae</td>\n",
       "      <td>43.773136</td>\n",
       "      <td>-79.239476</td>\n",
       "    </tr>\n",
       "  </tbody>\n",
       "</table>\n",
       "</div>"
      ],
      "text/plain": [
       "  PostalCode      Borough                         Neighbourhood   Latitude  \\\n",
       "0        M1B  Scarborough                         Malvern,Rouge  43.806686   \n",
       "1        M1C  Scarborough  Rouge Hill,Port Union,Highland Creek  43.784535   \n",
       "2        M1E  Scarborough       Guildwood,Morningside,West Hill  43.763573   \n",
       "3        M1G  Scarborough                                Woburn  43.770992   \n",
       "4        M1H  Scarborough                             Cedarbrae  43.773136   \n",
       "\n",
       "   Longitude  \n",
       "0 -79.194353  \n",
       "1 -79.160497  \n",
       "2 -79.188711  \n",
       "3 -79.216917  \n",
       "4 -79.239476  "
      ]
     },
     "execution_count": 29,
     "metadata": {},
     "output_type": "execute_result"
    }
   ],
   "source": [
    "coord_list= pd.merge(postalcode_list, Geospatial_Coordinates, on=\"Postal Code\")\n",
    "\n",
    "coord_list = coord_list.drop(\"Postal Code\", axis=1)\n",
    "\n",
    "coord_list.head()"
   ]
  }
 ],
 "metadata": {
  "kernelspec": {
   "display_name": "Python 3 (ipykernel)",
   "language": "python",
   "name": "python3"
  },
  "language_info": {
   "codemirror_mode": {
    "name": "ipython",
    "version": 3
   },
   "file_extension": ".py",
   "mimetype": "text/x-python",
   "name": "python",
   "nbconvert_exporter": "python",
   "pygments_lexer": "ipython3",
   "version": "3.9.7"
  }
 },
 "nbformat": 4,
 "nbformat_minor": 5
}
