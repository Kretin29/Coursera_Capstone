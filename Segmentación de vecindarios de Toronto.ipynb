{
 "cells": [
  {
   "cell_type": "markdown",
   "id": "a28d6a68",
   "metadata": {},
   "source": [
    "### Importamos las librerías necesarias para realizar web scraping"
   ]
  },
  {
   "cell_type": "code",
   "execution_count": 1,
   "id": "8768cf30",
   "metadata": {},
   "outputs": [],
   "source": [
    "import pandas as pd\n",
    "import numpy as np\n",
    "import requests\n",
    "from bs4 import BeautifulSoup"
   ]
  },
  {
   "cell_type": "markdown",
   "id": "a62388d2",
   "metadata": {},
   "source": [
    "### Descargamos los datos del enlace: https://en.wikipedia.org/wiki/List_of_postal_codes_of_Canada:_M, por medio de BeatifulSoup"
   ]
  },
  {
   "cell_type": "code",
   "execution_count": 2,
   "id": "62903592",
   "metadata": {},
   "outputs": [],
   "source": [
    "URL = \"https://en.wikipedia.org/wiki/List_of_postal_codes_of_Canada:_M\"\n",
    "page = requests.get(URL)\n",
    "soup = BeautifulSoup(page.content, \"html.parser\")"
   ]
  },
  {
   "cell_type": "markdown",
   "id": "144ab08a",
   "metadata": {},
   "source": [
    "### Se extrae la tabla que contiene solamente los datos de códigos postales de Toronto"
   ]
  },
  {
   "cell_type": "code",
   "execution_count": 3,
   "id": "25d14d67",
   "metadata": {},
   "outputs": [],
   "source": [
    "table = soup.find('table')"
   ]
  },
  {
   "cell_type": "code",
   "execution_count": 6,
   "id": "7c9fc0ca",
   "metadata": {},
   "outputs": [],
   "source": [
    "file=[]\n",
    "ncol=list(range(0,9))\n",
    "\n",
    "for i in ncol :\n",
    "    \n",
    "    for row in table.find_all('tr'): # in html table row is represented by the table\n",
    "    # Get all columns in each row.\n",
    "        cols = row.find_all('p') # in html a column is represented by the tag td or p\n",
    "        file.append(cols[i].getText())\n",
    "\n",
    "    # convert to dataframe:\n",
    "df= pd.DataFrame(file)"
   ]
  },
  {
   "cell_type": "markdown",
   "id": "8ba4d659",
   "metadata": {},
   "source": [
    "### Luego, configuramos el datafreme solicitado en la tarea"
   ]
  },
  {
   "cell_type": "code",
   "execution_count": 28,
   "id": "7ab8ae4a",
   "metadata": {},
   "outputs": [],
   "source": [
    "df[\"PostalCode\"] = df[0].str[0:3]\n",
    "df[\"Borough\"] = df[0].str[3:].str.split(\"(\", n=1, expand=True)[0]\n",
    "df[\"Neigh\"] = df[0].str.rsplit(\"(\", n=2, expand=True)[1].str.split(\")\", n=1, expand=True)[0].fillna(\"\")\n",
    "df[\"Neighbourhood\"] = df[\"Neigh\"].str.replace(\" / \", \",\")"
   ]
  },
  {
   "cell_type": "code",
   "execution_count": 37,
   "id": "6e3c7b64",
   "metadata": {},
   "outputs": [],
   "source": [
    "postalcode_list=df[(df[\"Borough\"]!=\"Not assigned\\n\")]\n",
    "postalcode_list=postalcode_list.drop([0, 'Neigh'],axis=1)"
   ]
  },
  {
   "cell_type": "code",
   "execution_count": 38,
   "id": "93903c5e",
   "metadata": {},
   "outputs": [
    {
     "data": {
      "text/html": [
       "<div>\n",
       "<style scoped>\n",
       "    .dataframe tbody tr th:only-of-type {\n",
       "        vertical-align: middle;\n",
       "    }\n",
       "\n",
       "    .dataframe tbody tr th {\n",
       "        vertical-align: top;\n",
       "    }\n",
       "\n",
       "    .dataframe thead th {\n",
       "        text-align: right;\n",
       "    }\n",
       "</style>\n",
       "<table border=\"1\" class=\"dataframe\">\n",
       "  <thead>\n",
       "    <tr style=\"text-align: right;\">\n",
       "      <th></th>\n",
       "      <th>PostalCode</th>\n",
       "      <th>Borough</th>\n",
       "      <th>Neighbourhood</th>\n",
       "    </tr>\n",
       "  </thead>\n",
       "  <tbody>\n",
       "    <tr>\n",
       "      <th>1</th>\n",
       "      <td>M1B</td>\n",
       "      <td>Scarborough</td>\n",
       "      <td>Malvern,Rouge</td>\n",
       "    </tr>\n",
       "    <tr>\n",
       "      <th>2</th>\n",
       "      <td>M1C</td>\n",
       "      <td>Scarborough</td>\n",
       "      <td>Rouge Hill,Port Union,Highland Creek</td>\n",
       "    </tr>\n",
       "    <tr>\n",
       "      <th>3</th>\n",
       "      <td>M1E</td>\n",
       "      <td>Scarborough</td>\n",
       "      <td>Guildwood,Morningside,West Hill</td>\n",
       "    </tr>\n",
       "    <tr>\n",
       "      <th>4</th>\n",
       "      <td>M1G</td>\n",
       "      <td>Scarborough</td>\n",
       "      <td>Woburn</td>\n",
       "    </tr>\n",
       "    <tr>\n",
       "      <th>5</th>\n",
       "      <td>M1H</td>\n",
       "      <td>Scarborough</td>\n",
       "      <td>Cedarbrae</td>\n",
       "    </tr>\n",
       "  </tbody>\n",
       "</table>\n",
       "</div>"
      ],
      "text/plain": [
       "  PostalCode      Borough                         Neighbourhood\n",
       "1        M1B  Scarborough                         Malvern,Rouge\n",
       "2        M1C  Scarborough  Rouge Hill,Port Union,Highland Creek\n",
       "3        M1E  Scarborough       Guildwood,Morningside,West Hill\n",
       "4        M1G  Scarborough                                Woburn\n",
       "5        M1H  Scarborough                             Cedarbrae"
      ]
     },
     "execution_count": 38,
     "metadata": {},
     "output_type": "execute_result"
    }
   ],
   "source": [
    "postalcode_list.head()"
   ]
  },
  {
   "cell_type": "code",
   "execution_count": 33,
   "id": "5f723914",
   "metadata": {},
   "outputs": [
    {
     "data": {
      "text/plain": [
       "(103, 4)"
      ]
     },
     "execution_count": 33,
     "metadata": {},
     "output_type": "execute_result"
    }
   ],
   "source": [
    "postalcode_list.shape"
   ]
  }
 ],
 "metadata": {
  "kernelspec": {
   "display_name": "Python 3 (ipykernel)",
   "language": "python",
   "name": "python3"
  },
  "language_info": {
   "codemirror_mode": {
    "name": "ipython",
    "version": 3
   },
   "file_extension": ".py",
   "mimetype": "text/x-python",
   "name": "python",
   "nbconvert_exporter": "python",
   "pygments_lexer": "ipython3",
   "version": "3.9.7"
  }
 },
 "nbformat": 4,
 "nbformat_minor": 5
}
