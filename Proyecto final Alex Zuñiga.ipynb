{
 "cells": [
  {
   "cell_type": "markdown",
   "id": "2ec6cc02",
   "metadata": {},
   "source": [
    "## Este notebook es para el proyecto final del curso de Ciencia de Datos Aplicada"
   ]
  },
  {
   "cell_type": "code",
   "execution_count": 1,
   "id": "5577714a",
   "metadata": {},
   "outputs": [
    {
     "name": "stdout",
     "output_type": "stream",
     "text": [
      "¡Hola, proyecto final del curso!\n"
     ]
    }
   ],
   "source": [
    "import pandas as pd\n",
    "import numpy as np\n",
    "\n",
    "print('¡Hola, proyecto final del curso!')"
   ]
  },
  {
   "cell_type": "code",
   "execution_count": null,
   "id": "85e2ad4b",
   "metadata": {},
   "outputs": [],
   "source": []
  }
 ],
 "metadata": {
  "kernelspec": {
   "display_name": "Python 3 (ipykernel)",
   "language": "python",
   "name": "python3"
  },
  "language_info": {
   "codemirror_mode": {
    "name": "ipython",
    "version": 3
   },
   "file_extension": ".py",
   "mimetype": "text/x-python",
   "name": "python",
   "nbconvert_exporter": "python",
   "pygments_lexer": "ipython3",
   "version": "3.9.7"
  }
 },
 "nbformat": 4,
 "nbformat_minor": 5
}
