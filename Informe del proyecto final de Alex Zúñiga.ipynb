{
 "cells": [
  {
   "cell_type": "markdown",
   "id": "d4a018ac",
   "metadata": {},
   "source": [
    "# Proyecto Capstone - Batalla de Vecindarios (Week 2)\n",
    "### Applied Data Science Capstone by IBM/Coursera"
   ]
  },
  {
   "cell_type": "markdown",
   "id": "907484cf",
   "metadata": {},
   "source": [
    "## Tabla de contenidos\n",
    "* [Introducción: El problema de negocio](#Introducción)\n",
    "* [Datos](#Datos)\n",
    "* [Metodología](#Metodología)\n",
    "* [Análisis](#Análisis)\n",
    "* [Resultados y discusión](#resultados)\n",
    "* [Conclusión](#Conclusión)"
   ]
  },
  {
   "cell_type": "markdown",
   "id": "5a475eca",
   "metadata": {},
   "source": [
    "## Introducción: El problema de negocio"
   ]
  },
  {
   "cell_type": "markdown",
   "id": "388ed1fb",
   "metadata": {},
   "source": [
    "Este proyecto tiene la finalidad de recomendar a un emprendedor el tipo de negocio más recomendable para ubicarlo en la ciudad de Guayaquil(Ecuador), para lo cual se realizará la segmentación de la ciudad en base a sus parroquias urbanas, y posteriormente se aplicará el algoritmos de K-means para clusterización en cinco zonas de alta densidad comercial, se escogerá el modelo de negocio con la menor impacto comercial con la ayuda de la API de Foursquare."
   ]
  },
  {
   "cell_type": "markdown",
   "id": "9b369e7e",
   "metadata": {},
   "source": [
    "## Datos"
   ]
  },
  {
   "cell_type": "markdown",
   "id": "a2bd7bb4",
   "metadata": {},
   "source": [
    "Nuestros datos fueron obtenidos del sitio web: https://www.getpostalcodes.com/ecuador/county-guayaquil-guayas/, el cual por medio de los códigos postales de las parroquias urbanas de Guayaquil, se recopilaron los nombres de mencionadas parroquias junto a sus coordenadas geográficas.\n",
    "\n",
    "Hay que tomar en cuenta que la inversión en el negocio es relatívamente alta, por lo que se descarta ponerlo en funcionamiento en parroquias rurales en donde existe poca actividad comercial.\n",
    "\n",
    "Lo primero que haremos es importar las librerías necesarias para nuestro proyecto, luego hacemos la llamada al dataset creado desde un archivo xlsx con pandas. Posteriormente ubicamos la posición geográfica de Guayaquil con la ayuda de la librería geopy, dando como resultado la latitud y longitud de la ciudad.\n",
    "\n",
    "Finalmente, desplegamos el mapa de la ciudad de Guayaquil con los puntos geográficos que señalan las coordenadas geográficas de las parroquias urbanas de Guayaquil."
   ]
  },
  {
   "cell_type": "markdown",
   "id": "c5ec910d",
   "metadata": {},
   "source": [
    "![Parroquias urbanas de Guayaquil](1.png)\n"
   ]
  },
  {
   "cell_type": "markdown",
   "id": "9ee5a49e",
   "metadata": {},
   "source": [
    "### Uso de la Api de Foursquare"
   ]
  },
  {
   "cell_type": "markdown",
   "id": "e4ce2801",
   "metadata": {},
   "source": [
    "Por medio de las credenciales de Foursquare, hacemos la llamada a la API de los lugares cercanos a las posiciones geográficas de las parroquias urbanas de Guayaquil, luego convertimos los datos JSON de los lugares cercanos en un radio de 500 metros de las parroquias urbanas en un dataframe de pandas y hacemos una limpieza del dataframe para que nos quede sólamente las categorías de los lugares junto a sus coordenadas geográficas.\n",
    "\n",
    "De acuerdo a la APi de Foursquare, existen 4 parroquias con poca actividad comercial y la mayoría de ellas se encuentran en la zona periférica del casco comercial de la ciudad, conclusión que resulta obvia ya que el casco comercial de Guayaquil se concentra en los alrededores del malecón."
   ]
  },
  {
   "cell_type": "markdown",
   "id": "02742518",
   "metadata": {},
   "source": [
    "## Metodología"
   ]
  },
  {
   "cell_type": "markdown",
   "id": "efa3510a",
   "metadata": {},
   "source": [
    "Una vez que hemos preprocesado los datos, es momento de aplicar las técnicas de machine learning aprendidas en el curso, para lo cual vamos a agrupar las parroquias urbanas de Guayaquil según el número de lugares comerciales cercanos a las mismas, la agrupación será de k= 5 utilizando el algoritmo de K-means.\n",
    "\n",
    "Es importante señalar que se pueden aplicar otras técnicas de agrupamiento, si embargo para nuestros fines, el algoritmo K-means es recomendable ya que no existen muchos datos por analizar."
   ]
  },
  {
   "cell_type": "markdown",
   "id": "0f197347",
   "metadata": {},
   "source": [
    "## Análisis"
   ]
  },
  {
   "cell_type": "markdown",
   "id": "e6b5aadc",
   "metadata": {},
   "source": [
    "Aplicamos la técnica One-Hot para convertir los datos categóricos de las parroquias en datos numéricos para posteriormente utilizar el algoritmo K-means sobre ellos, luego vamos a construir un Dataframe con los 10 tipos de categorías más populares de los lugares cercanos a las parroquias, posteriormente aplicamos el algoritmo de K-means con K=5 y desplegamos el mapa con las agrupaciones dadas en el algoritmo de K-means, las agrupaciones están dadas por los puntos con la misma coloración.\n",
    "\n",
    "Verificamos las categorías de los lugares de las parroquias agrupadas con menor frecuencia comercial, dadas por los resultados de la agrupación que hicimos con el algoritmo K-means."
   ]
  },
  {
   "cell_type": "markdown",
   "id": "3dd467a7",
   "metadata": {},
   "source": [
    "![Texto alternativo](2.png)\n"
   ]
  },
  {
   "cell_type": "markdown",
   "id": "96745b83",
   "metadata": {},
   "source": [
    "## Resultados y discusión"
   ]
  },
  {
   "cell_type": "markdown",
   "id": "357805e6",
   "metadata": {},
   "source": [
    "Los resultados del agrupamiento de parroquias urbanas de Guayaquil en función del número de negocios que existen en un radio de 500 metros, arrojan que el negocio que en futuro emprendedor está claramente favorecido si lo coloca en el centro del rombo comformado por la intersección de las bisectrices del ángulo formado por los vertices de las parroquias: Ayacucho, Bolìvar, García Moreno, Roca y Urdaneta, ya que se encuentran en pleno clasco comercial de la urbe y la afluencia masiva por esata zon la combierte en un lugar muy atractivo para emprender un negocio.\n",
    "\n",
    "Así mismo, se puede notar que de todos los negocios que conformas esta agrupación, la de Night Club es la que tiene menor frecuencia en esta agrupación, por lo que este tipo de negocio sería recomendable al no haber mucha oferta en un sector tan comercial."
   ]
  },
  {
   "cell_type": "markdown",
   "id": "2f6a17df",
   "metadata": {},
   "source": [
    "![Texto alternativo](4.png)\n"
   ]
  },
  {
   "cell_type": "markdown",
   "id": "e13aa1d0",
   "metadata": {},
   "source": [
    "![Texto alternativo](3.png)\n"
   ]
  },
  {
   "cell_type": "markdown",
   "id": "770b8fa5",
   "metadata": {},
   "source": [
    "## Conclusión"
   ]
  },
  {
   "cell_type": "markdown",
   "id": "1d24ed48",
   "metadata": {},
   "source": [
    "Después de realizar el análisis de los datos recibidos y de las posiciones geográficas de los lugares más populares de cada parroquia urbana de Guayaquil, podemos concluir que el negocio de Night Club en el centro de sector conformado por el rombo de parroquias antes señaladas, podría ser la mejor alternativa, ya que es una zona muy comercial de Guayaquil, y para este tipo de emprendimiento no hay una oferta suficiente."
   ]
  }
 ],
 "metadata": {
  "kernelspec": {
   "display_name": "Python 3 (ipykernel)",
   "language": "python",
   "name": "python3"
  },
  "language_info": {
   "codemirror_mode": {
    "name": "ipython",
    "version": 3
   },
   "file_extension": ".py",
   "mimetype": "text/x-python",
   "name": "python",
   "nbconvert_exporter": "python",
   "pygments_lexer": "ipython3",
   "version": "3.9.7"
  }
 },
 "nbformat": 4,
 "nbformat_minor": 5
}
